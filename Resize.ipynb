{
  "nbformat": 4,
  "nbformat_minor": 0,
  "metadata": {
    "colab": {
      "name": "Resize.ipynb",
      "provenance": [],
      "collapsed_sections": []
    },
    "kernelspec": {
      "name": "python3",
      "display_name": "Python 3"
    },
    "language_info": {
      "name": "python"
    }
  },
  "cells": [
    {
      "cell_type": "code",
      "source": [
        "from google.colab import drive\n",
        "drive._mount('/content/drive')"
      ],
      "metadata": {
        "colab": {
          "base_uri": "https://localhost:8080/"
        },
        "id": "VySuKGrSXrMk",
        "outputId": "2e6003e4-7715-4999-b11d-a70b9d17549b"
      },
      "execution_count": 1,
      "outputs": [
        {
          "output_type": "stream",
          "name": "stdout",
          "text": [
            "Mounted at /content/drive\n"
          ]
        }
      ]
    },
    {
      "cell_type": "code",
      "source": [
        "import PIL\n",
        "import os\n",
        "import os.path\n",
        "from PIL import Image\n",
        "\n",
        "img_dir = \"drive/MyDrive/Coba/\"\n",
        "\n",
        "print('Mulai')\n",
        "\n",
        "for img in os.listdir(img_dir):\n",
        "\tf_img = img_dir + img\n",
        "\tf, e = os.path.splitext(img_dir + img)\n",
        "\timg = Image.open(f_img)\n",
        "\timg = img.resize((220, 220))\n",
        "\timg.save(f + '_resized.jpg')\n",
        "\n",
        "print('Selesai')"
      ],
      "metadata": {
        "colab": {
          "base_uri": "https://localhost:8080/"
        },
        "id": "1IY74IbTYIB7",
        "outputId": "ad72d589-8f53-4116-8f69-a95ed5520272"
      },
      "execution_count": 14,
      "outputs": [
        {
          "output_type": "stream",
          "name": "stdout",
          "text": [
            "Mulai\n",
            "Selesai\n"
          ]
        }
      ]
    }
  ]
}